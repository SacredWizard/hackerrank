{
 "cells": [
  {
   "cell_type": "markdown",
   "metadata": {},
   "source": [
    "You are given n words. Some words may repeat. For each word, output its number of occurrences. The output order should correspond with the input order of appearance of the word. See the sample input/output for clarification.\n",
    "\n",
    "```\n",
    "4\n",
    "bcdef\n",
    "abcdefg\n",
    "bcde\n",
    "bcdef\n",
    "```\n",
    "\n",
    "```\n",
    "3\n",
    "2 1 1\n",
    "```\n"
   ]
  },
  {
   "cell_type": "code",
   "execution_count": 11,
   "metadata": {},
   "outputs": [
    {
     "name": "stdout",
     "output_type": "stream",
     "text": [
      "4\n",
      "bcdef\n",
      "abcdefg\n",
      "bcde\n",
      "bcdef\n",
      "3\n",
      "2 1 1\n"
     ]
    }
   ],
   "source": [
    "from collections import OrderedDict\n",
    "n = int(input())\n",
    "od = OrderedDict()\n",
    "\n",
    "for x in [j for i in range(n) for j in [input().strip()]]:\n",
    "    if x in od:\n",
    "        od[x] += 1\n",
    "    else:\n",
    "        od[x] = 1\n",
    "\n",
    "print(len(od))\n",
    "print(' '.join([str(v) for k,v in od.items()]))\n"
   ]
  }
 ],
 "metadata": {
  "kernelspec": {
   "display_name": "Python 3",
   "language": "python",
   "name": "python3"
  },
  "language_info": {
   "codemirror_mode": {
    "name": "ipython",
    "version": 3
   },
   "file_extension": ".py",
   "mimetype": "text/x-python",
   "name": "python",
   "nbconvert_exporter": "python",
   "pygments_lexer": "ipython3",
   "version": "3.6.4"
  }
 },
 "nbformat": 4,
 "nbformat_minor": 2
}
