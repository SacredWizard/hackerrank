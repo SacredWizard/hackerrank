{
 "cells": [
  {
   "cell_type": "markdown",
   "metadata": {},
   "source": [
    "```9\n",
    "BANANA FRIES 12\n",
    "POTATO CHIPS 30\n",
    "APPLE JUICE 10\n",
    "CANDY 5\n",
    "APPLE JUICE 10\n",
    "CANDY 5\n",
    "CANDY 5\n",
    "CANDY 5\n",
    "POTATO CHIPS 30```\n",
    "\n",
    "O/P\n",
    "```BANANA FRIES 12\n",
    "POTATO CHIPS 60\n",
    "APPLE JUICE 20\n",
    "CANDY 20```"
   ]
  },
  {
   "cell_type": "code",
   "execution_count": 31,
   "metadata": {},
   "outputs": [
    {
     "name": "stdout",
     "output_type": "stream",
     "text": [
      "3\n",
      "w 3\n",
      "w e 5\n",
      "w 5\n",
      "w 8\n",
      "w e 5\n"
     ]
    }
   ],
   "source": [
    "from collections import OrderedDict\n",
    "n = int(input())\n",
    "od = OrderedDict()\n",
    "\n",
    "for x in [j for i in range(n) for j in [input().strip().split()]]:\n",
    "    key = ' '.join(x[:-1])\n",
    "    if key in od:\n",
    "        od[key] = od[key] + int(x[-1])\n",
    "    else: \n",
    "        od[key] = int(x[-1])\n",
    "for key, value in od.items():\n",
    "    print(key, value)\n"
   ]
  }
 ],
 "metadata": {
  "kernelspec": {
   "display_name": "Python 3",
   "language": "python",
   "name": "python3"
  },
  "language_info": {
   "codemirror_mode": {
    "name": "ipython",
    "version": 3
   },
   "file_extension": ".py",
   "mimetype": "text/x-python",
   "name": "python",
   "nbconvert_exporter": "python",
   "pygments_lexer": "ipython3",
   "version": "3.6.4"
  }
 },
 "nbformat": 4,
 "nbformat_minor": 2
}
