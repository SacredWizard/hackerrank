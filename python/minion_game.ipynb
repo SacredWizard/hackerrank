{
 "cells": [
  {
   "cell_type": "markdown",
   "metadata": {},
   "source": [
    "Kevin and Stuart want to play the 'The Minion Game'.\n",
    "\n",
    "Game Rules\n",
    "\n",
    "Both players are given the same string, S.\n",
    "Both players have to make substrings using the letters of the string S.\n",
    "Stuart has to make words starting with consonants.\n",
    "Kevin has to make words starting with vowels. \n",
    "The game ends when both players have made all possible substrings. \n",
    "\n",
    "Scoring\n",
    "A player gets +1 point for each occurrence of the substring in the string S.\n",
    "\n",
    "For Example:\n",
    "String  = BANANA\n",
    "Kevin's vowel beginning word = ANA\n",
    "Here, ANA occurs twice in BANANA. Hence, Kevin will get 2 Points. \n",
    "\n",
    "Input Format\n",
    "\n",
    "A single line of input containing the string S. \n",
    "Note: The string  will contain only uppercase letters: [A-Z].\n",
    "\n",
    "\n",
    "Sample Input\n",
    "\n",
    "```\n",
    "BANANA\n",
    "```\n",
    "Sample Output\n",
    "```\n",
    "Stuart 12\n",
    "```\n",
    "\n",
    "Note : \n",
    "Vowels are only defined as . In this problem,  is not considered a vowel.\n"
   ]
  },
  {
   "cell_type": "code",
   "execution_count": 37,
   "metadata": {},
   "outputs": [],
   "source": [
    "def minion_game(string):\n",
    "    # your code goes here\n",
    "    vow = 'AEIOU'\n",
    "    stuart, kevin, l = 0, 0, len(string)\n",
    "\n",
    "    for i in range(l):  \n",
    "        if string[i] in vow:\n",
    "            kevin += l - i\n",
    "        else:\n",
    "            stuart += l - i\n",
    "        \n",
    "    if stuart < kevin:\n",
    "        print('Kevin', kevin)\n",
    "    elif stuart == kevin:\n",
    "        print('Draw')\n",
    "    else:\n",
    "        print('Stuart', stuart)"
   ]
  },
  {
   "cell_type": "code",
   "execution_count": 38,
   "metadata": {},
   "outputs": [
    {
     "name": "stdout",
     "output_type": "stream",
     "text": [
      "Stuart  12\n"
     ]
    }
   ],
   "source": [
    "minion_game('BANANA')"
   ]
  },
  {
   "cell_type": "code",
   "execution_count": null,
   "metadata": {},
   "outputs": [],
   "source": []
  }
 ],
 "metadata": {
  "kernelspec": {
   "display_name": "Python 3",
   "language": "python",
   "name": "python3"
  },
  "language_info": {
   "codemirror_mode": {
    "name": "ipython",
    "version": 3
   },
   "file_extension": ".py",
   "mimetype": "text/x-python",
   "name": "python",
   "nbconvert_exporter": "python",
   "pygments_lexer": "ipython3",
   "version": "3.6.4"
  }
 },
 "nbformat": 4,
 "nbformat_minor": 2
}
