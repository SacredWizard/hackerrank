{
 "cells": [
  {
   "cell_type": "markdown",
   "metadata": {},
   "source": [
    "```5\n",
    "ID         MARKS      NAME       CLASS     \n",
    "1          97         Raymond    7         \n",
    "2          50         Steven     4         \n",
    "3          91         Adrian     9         \n",
    "4          72         Stewart    5         \n",
    "5          80         Peter      6   ```\n",
    "\n",
    "\n",
    "O/P\n",
    "\n",
    "```78.00```"
   ]
  },
  {
   "cell_type": "code",
   "execution_count": 16,
   "metadata": {},
   "outputs": [
    {
     "name": "stdout",
     "output_type": "stream",
     "text": [
      "2\n",
      "ID         MARKS      NAME       CLASS  \n",
      "1          97         Raymond    7\n",
      "2          50         Steven     4\n",
      "73.5\n"
     ]
    }
   ],
   "source": [
    "from collections import namedtuple\n",
    "n = int(input())\n",
    "Student = namedtuple('Student', input().strip())\n",
    "print(sum(float(m.MARKS) for m in [Student(*input().strip().split()) for i in range(n)])/n)"
   ]
  }
 ],
 "metadata": {
  "kernelspec": {
   "display_name": "Python 3",
   "language": "python",
   "name": "python3"
  },
  "language_info": {
   "codemirror_mode": {
    "name": "ipython",
    "version": 3
   },
   "file_extension": ".py",
   "mimetype": "text/x-python",
   "name": "python",
   "nbconvert_exporter": "python",
   "pygments_lexer": "ipython3",
   "version": "3.6.4"
  }
 },
 "nbformat": 4,
 "nbformat_minor": 2
}
